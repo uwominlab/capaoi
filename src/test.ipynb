{
 "cells": [
  {
   "cell_type": "code",
   "execution_count": 1,
   "id": "98ecb204-3f43-44fc-a871-b45b52ed9652",
   "metadata": {},
   "outputs": [],
   "source": [
    "import numpy as np\n",
    "import cv2\n",
    "from pypylon import pylon\n",
    "import time\n",
    "import threading\n",
    "from pymodbus.client import ModbusTcpClient"
   ]
  },
  {
   "cell_type": "code",
   "execution_count": 2,
   "id": "e7257043-e523-467a-b780-6417a2a13a18",
   "metadata": {},
   "outputs": [
    {
     "ename": "RuntimeException",
     "evalue": "No device is available or no device contains the provided device info properties. : RuntimeException thrown (file 'tlfactory.cpp', line 694)",
     "output_type": "error",
     "traceback": [
      "\u001b[1;31m---------------------------------------------------------------------------\u001b[0m",
      "\u001b[1;31mRuntimeException\u001b[0m                          Traceback (most recent call last)",
      "Cell \u001b[1;32mIn[2], line 2\u001b[0m\n\u001b[0;32m      1\u001b[0m \u001b[38;5;66;03m# 创建并打开相机\u001b[39;00m\n\u001b[1;32m----> 2\u001b[0m camera \u001b[38;5;241m=\u001b[39m pylon\u001b[38;5;241m.\u001b[39mInstantCamera(\u001b[43mpylon\u001b[49m\u001b[38;5;241;43m.\u001b[39;49m\u001b[43mTlFactory\u001b[49m\u001b[38;5;241;43m.\u001b[39;49m\u001b[43mGetInstance\u001b[49m\u001b[43m(\u001b[49m\u001b[43m)\u001b[49m\u001b[38;5;241;43m.\u001b[39;49m\u001b[43mCreateFirstDevice\u001b[49m\u001b[43m(\u001b[49m\u001b[43m)\u001b[49m)\n\u001b[0;32m      3\u001b[0m camera\u001b[38;5;241m.\u001b[39mOpen()\n\u001b[0;32m      5\u001b[0m \u001b[38;5;66;03m# 曝光时间（微秒）\u001b[39;00m\n",
      "File \u001b[1;32m~\\AppData\\Roaming\\Python\\Python312\\site-packages\\pypylon\\pylon.py:1717\u001b[0m, in \u001b[0;36mTlFactory.CreateFirstDevice\u001b[1;34m(self, *args)\u001b[0m\n\u001b[0;32m   1709\u001b[0m \u001b[38;5;28;01mdef\u001b[39;00m \u001b[38;5;21mCreateFirstDevice\u001b[39m(\u001b[38;5;28mself\u001b[39m, \u001b[38;5;241m*\u001b[39margs):\n\u001b[0;32m   1710\u001b[0m \u001b[38;5;250m    \u001b[39m\u001b[38;5;124mr\u001b[39m\u001b[38;5;124;03m\"\"\"\u001b[39;00m\n\u001b[0;32m   1711\u001b[0m \n\u001b[0;32m   1712\u001b[0m \n\u001b[1;32m   (...)\u001b[0m\n\u001b[0;32m   1715\u001b[0m \n\u001b[0;32m   1716\u001b[0m \u001b[38;5;124;03m    \"\"\"\u001b[39;00m\n\u001b[1;32m-> 1717\u001b[0m     \u001b[38;5;28;01mreturn\u001b[39;00m \u001b[43m_pylon\u001b[49m\u001b[38;5;241;43m.\u001b[39;49m\u001b[43mTlFactory_CreateFirstDevice\u001b[49m\u001b[43m(\u001b[49m\u001b[38;5;28;43mself\u001b[39;49m\u001b[43m,\u001b[49m\u001b[43m \u001b[49m\u001b[38;5;241;43m*\u001b[39;49m\u001b[43margs\u001b[49m\u001b[43m)\u001b[49m\n",
      "\u001b[1;31mRuntimeException\u001b[0m: No device is available or no device contains the provided device info properties. : RuntimeException thrown (file 'tlfactory.cpp', line 694)"
     ]
    }
   ],
   "source": [
    "# 创建并打开相机\n",
    "camera = pylon.InstantCamera(pylon.TlFactory.GetInstance().CreateFirstDevice())\n",
    "camera.Open()\n",
    "\n",
    "# 曝光时间（微秒）\n",
    "camera.ExposureTime.Value = 12490 \n",
    "\n",
    "# 设置帧率\n",
    "camera.AcquisitionFrameRate.SetValue(1)\n",
    "\n",
    "# 增益（dB)\n",
    "camera.Gain.SetValue(10)\n",
    "\n",
    "# 分辨率\n",
    "# camera.Width.SetValue(1080)  # 设置图像宽度\n",
    "# camera.Height.SetValue(720)  # 设置图像高度\n",
    "\n",
    "# 触发模式\n",
    "# camera.TriggerMode.SetValue(\"On\")  # 启用触发模式\n",
    "# camera.TriggerSource.SetValue(\"Line1\")  # 设置触发源为 Line1"
   ]
  },
  {
   "cell_type": "code",
   "execution_count": 3,
   "id": "2f3ff027-f727-4674-8160-d67725430495",
   "metadata": {},
   "outputs": [],
   "source": [
    "# hyperparameters setting\n",
    "conveyer_len = 500 # 近PLC边界距离，单位mm\n",
    "conveyer_rate = 50 # mm/s\n",
    "calib_time = 0 # s, 校准时间\n",
    "blowing_duration = 0.5 # 持续吹气时间\n",
    "\n",
    "plc_ip = '192.168.0.100'\n",
    "plc_port = 502  # PLC的Modbus端口\n",
    "output_address = 0 # 吹嘴输出地址"
   ]
  },
  {
   "cell_type": "code",
   "execution_count": 4,
   "id": "9af4f14a-7006-4720-b1d0-68393929cb73",
   "metadata": {},
   "outputs": [],
   "source": [
    "def start_blowing(client, output_address, delay_time):\n",
    "    \"\"\"\n",
    "    :param client: Modbus TCP客户端\n",
    "    :param output_address: PLC中控制吹嘴的输出地址\n",
    "    :param delay_time: 吹气延迟时间，单位：秒\n",
    "    :param blowing_duration: 吹气持续时间，单位：秒\n",
    "    \"\"\"\n",
    "    time.sleep(delay_time)  # 等待延迟时间\n",
    "    print(f\"开始吹气，延迟了{delay_time}秒，持续{blowing_duration}秒\")\n",
    "    \n",
    "    # 启动吹气\n",
    "    # client.write_coil(output_address, True)\n",
    "    time.sleep(blowing_duration)  # 持续吹气指定时间\n",
    "    \n",
    "    # 停止吹气\n",
    "    # client.write_coil(output_address, False)\n",
    "    print(\"吹气完成，停止吹气\")\n",
    "\n",
    "import random\n",
    "def defect_diagnose(image):\n",
    "    \"\"\"\n",
    "    defection alg.\n",
    "    : return is_fault: boolean, True是有故障\n",
    "    : return coord_list: list, 故障胶囊中心轴距离近PLC端FOV边缘距离，mm\n",
    "    \"\"\"\n",
    "    x = [random.randint(300,500) for _ in range(5)]\n",
    "    time.sleep(5)\n",
    "    return True, x"
   ]
  },
  {
   "cell_type": "code",
   "execution_count": 5,
   "id": "7857b511-cbf2-49ad-a387-8c05e76bfa0c",
   "metadata": {},
   "outputs": [
    {
     "ename": "NameError",
     "evalue": "name 'camera' is not defined",
     "output_type": "error",
     "traceback": [
      "\u001b[1;31m---------------------------------------------------------------------------\u001b[0m",
      "\u001b[1;31mNameError\u001b[0m                                 Traceback (most recent call last)",
      "Cell \u001b[1;32mIn[5], line 11\u001b[0m\n\u001b[0;32m      1\u001b[0m \u001b[38;5;66;03m# 连接到PLC\u001b[39;00m\n\u001b[0;32m      2\u001b[0m \u001b[38;5;66;03m# client = ModbusTcpClient(plc_ip, port=plc_port)\u001b[39;00m\n\u001b[0;32m      3\u001b[0m \u001b[38;5;66;03m# if not client.connect():\u001b[39;00m\n\u001b[1;32m   (...)\u001b[0m\n\u001b[0;32m      8\u001b[0m \u001b[38;5;66;03m# while True:\u001b[39;00m\n\u001b[0;32m      9\u001b[0m \u001b[38;5;66;03m#     time.sleep(1)\u001b[39;00m\n\u001b[1;32m---> 11\u001b[0m \u001b[43mcamera\u001b[49m\u001b[38;5;241m.\u001b[39mStopGrabbing()\n\u001b[0;32m     12\u001b[0m \u001b[38;5;66;03m# 启动图像采集\u001b[39;00m\n\u001b[0;32m     13\u001b[0m camera\u001b[38;5;241m.\u001b[39mStartGrabbing(pylon\u001b[38;5;241m.\u001b[39mGrabStrategy_LatestImageOnly) \u001b[38;5;66;03m# 只抓取最新的一帧（未处理完的时候不采集其他图片）\u001b[39;00m\n",
      "\u001b[1;31mNameError\u001b[0m: name 'camera' is not defined"
     ]
    }
   ],
   "source": [
    "# 连接到PLC\n",
    "# client = ModbusTcpClient(plc_ip, port=plc_port)\n",
    "# if not client.connect():\n",
    "#     print(\"无法连接到PLC\")\n",
    "# return\n",
    "\n",
    "# 保持主线程运行，等待子线程执行完毕\n",
    "# while True:\n",
    "#     time.sleep(1)\n",
    "\n",
    "camera.StopGrabbing()\n",
    "# 启动图像采集\n",
    "camera.StartGrabbing(pylon.GrabStrategy_LatestImageOnly) # 只抓取最新的一帧（未处理完的时候不采集其他图片）\n",
    "# camera.StartGrabbing(pylon.GrabStrategy_OneByOne) # 处理完当前图片才再次抓取\n",
    "\n",
    "count = 0 # 处理图像数量统计\n",
    "# 获取和处理图像\n",
    "while camera.IsGrabbing():\n",
    "    # 获取图像帧\n",
    "    grab_result = camera.RetrieveResult(5000, pylon.TimeoutHandling_ThrowException)\n",
    "    \n",
    "    if grab_result.GrabSucceeded():\n",
    "        image = grab_result.Array\n",
    "        grab_time = time.time()\n",
    "\n",
    "        is_fault,fault_coord = defect_diagnose(image) # 判断函数 is_fault为true代表有问题，fault_coord：list，record坐标\n",
    "        process_time = time.time()\n",
    "\n",
    "        # while is_fault:\n",
    "        #     for coord in fault_coord:\n",
    "        #         delay_time = (conveyer_len+coord)/conveyer_rate - (process_time-grab_time) + calib_time\n",
    "        #         threading.Thread(target=start_blowing, args=(client, output_address, delay_time), daemon=True).start()\n",
    "        # cv2.imshow(\"Processed Image\", image)\n",
    "\n",
    "        print(count)\n",
    "        count += 1\n",
    "        \n",
    "        # 检测按键，按'ESC'键退出\n",
    "        key = cv2.waitKey(1)\n",
    "        if key == 27:  # ESC键\n",
    "            break\n",
    "    grab_result.Release()\n",
    "\n",
    "# 关闭相机并释放资源\n",
    "camera.StopGrabbing()\n",
    "camera.Close()\n",
    "cv2.destroyAllWindows()"
   ]
  },
  {
   "cell_type": "code",
   "execution_count": null,
   "id": "8ed19abf-1257-4700-b137-caf0e96762d5",
   "metadata": {},
   "outputs": [],
   "source": []
  }
 ],
 "metadata": {
  "kernelspec": {
   "display_name": "base",
   "language": "python",
   "name": "python3"
  },
  "language_info": {
   "codemirror_mode": {
    "name": "ipython",
    "version": 3
   },
   "file_extension": ".py",
   "mimetype": "text/x-python",
   "name": "python",
   "nbconvert_exporter": "python",
   "pygments_lexer": "ipython3",
   "version": "3.12.3"
  }
 },
 "nbformat": 4,
 "nbformat_minor": 5
}
